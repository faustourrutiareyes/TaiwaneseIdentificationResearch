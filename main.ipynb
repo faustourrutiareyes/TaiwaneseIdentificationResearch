{
 "cells": [
  {
   "cell_type": "markdown",
   "metadata": {},
   "source": [
    "If running locally run the following command first, it will install all necessary requirements to ensure no dependency errors. If viewing as HTML or PDF, you can ignore this.\n"
   ]
  },
  {
   "cell_type": "code",
   "execution_count": 43,
   "metadata": {},
   "outputs": [],
   "source": [
    "# If running locally run the following command:\n",
    "# %pip install -r requirements.txt"
   ]
  },
  {
   "cell_type": "markdown",
   "metadata": {},
   "source": [
    "# Section 1: Data Cleaning\n"
   ]
  },
  {
   "cell_type": "markdown",
   "metadata": {},
   "source": [
    "## Import datasets into project and join by shared columns\n"
   ]
  },
  {
   "cell_type": "code",
   "execution_count": 44,
   "metadata": {},
   "outputs": [],
   "source": [
    "# Import OS for accesing system folders\n",
    "import os as os\n",
    "\n",
    "# Import Pandas for conversion of .csv into dataframes and usage of Pandas library\n",
    "import pandas as pd\n",
    "import numpy as np"
   ]
  },
  {
   "cell_type": "code",
   "execution_count": 45,
   "metadata": {},
   "outputs": [],
   "source": [
    "# Set folder_path from our current directory\n",
    "folder_path = os.getcwd()\n",
    "\n",
    "# Update folder_path to Data/ folder to access .csv files\n",
    "folder_path = os.path.join(folder_path, r\"Data\")"
   ]
  },
  {
   "cell_type": "code",
   "execution_count": 46,
   "metadata": {},
   "outputs": [
    {
     "data": {
      "text/plain": [
       "['2012_cleaned.csv', '2013_cleaned.csv', '2014_cleaned.csv']"
      ]
     },
     "execution_count": 46,
     "metadata": {},
     "output_type": "execute_result"
    }
   ],
   "source": [
    "# Check that the files needed are in the folder\n",
    "os.listdir(folder_path)"
   ]
  },
  {
   "cell_type": "markdown",
   "metadata": {},
   "source": [
    "### Our first issue with these tables is that not all of them possess the same columns (only the names are the same). Therefore, we need to extract only the columns that all three tables have in common to avoid problems when merging into a bigger dataframe.\n"
   ]
  },
  {
   "cell_type": "code",
   "execution_count": 47,
   "metadata": {},
   "outputs": [
    {
     "name": "stdout",
     "output_type": "stream",
     "text": [
      "2012_cleaned.csv has 29 columns\n",
      "2013_cleaned.csv has 28 columns\n",
      "2014_cleaned.csv has 37 columns\n"
     ]
    }
   ],
   "source": [
    "# Proof: columns are different for each .csv\n",
    "\n",
    "# Loop through each file by name of files as in:\n",
    "# ['2012_cleaned.csv', '2013_cleaned.csv', '2014_cleaned.csv']\n",
    "for file_name in os.listdir(folder_path):\n",
    "    current_file_path = os.path.join(folder_path, file_name)\n",
    "    current_df = pd.read_csv(\n",
    "        current_file_path\n",
    "    )  # Convert the current .csv into a df to use Pandas columns() module\n",
    "    print(\n",
    "        file_name, \"has\", len(current_df.columns), \"columns\"\n",
    "    )  # Check columns are not equal just by looking at amount of columns in each table"
   ]
  },
  {
   "cell_type": "markdown",
   "metadata": {},
   "source": [
    "### Our first table has 29, our second 28, and our last one 37. When adding the tables, this will result in columns with many NA values. We must eliminate the \"extra\" columns first.\n"
   ]
  },
  {
   "cell_type": "code",
   "execution_count": 48,
   "metadata": {},
   "outputs": [],
   "source": [
    "# Run a similar loop as above to created a nested list of all columns, to intersect later\n",
    "\n",
    "columns_in_tables = []\n",
    "\n",
    "for file_name in os.listdir(folder_path):\n",
    "    current_file_path = os.path.join(folder_path, file_name)\n",
    "    current_df = pd.read_csv(current_file_path)\n",
    "\n",
    "    # Put all columns for each column in the list created above\n",
    "    # Will look something like the following:\n",
    "    # [[table1_column1][table1_column2],[table2_column1]...,[table3_column3]...]\n",
    "    columns_in_tables.append(current_df.columns)"
   ]
  },
  {
   "cell_type": "code",
   "execution_count": 49,
   "metadata": {},
   "outputs": [],
   "source": [
    "# For finding which columns are in every table we need to run an intersection\n",
    "# Python does this by turning a nested list into a list of sets.\n",
    "\n",
    "shared_columns = list(\n",
    "    set.intersection(*map(set, columns_in_tables))\n",
    ")  # * as in *args for multiple arguments input\n",
    "# The map() function turns each element (sublist of columns) into a set which\n",
    "# We then turn the set back into a list and store it in shared_columns"
   ]
  },
  {
   "cell_type": "code",
   "execution_count": 50,
   "metadata": {},
   "outputs": [],
   "source": [
    "# Modify the above for loop to put all tables in a single dataframe and select only shared_columns\n",
    "\n",
    "data_merge = pd.DataFrame()  # Initialize empty df\n",
    "dataframes = []  # Initialize empty list for use in pd.concat which accepts lists only\n",
    "\n",
    "for file_name in os.listdir(folder_path):\n",
    "    current_file_path = os.path.join(folder_path, file_name)\n",
    "    current_df = pd.read_csv(current_file_path)\n",
    "    dataframes.append(current_df)\n",
    "\n",
    "data_merge = pd.concat(dataframes)\n",
    "data_merge = data_merge[list(shared_columns)]"
   ]
  },
  {
   "cell_type": "markdown",
   "metadata": {},
   "source": [
    "### We can now see the columns we have to work with.\n"
   ]
  },
  {
   "cell_type": "code",
   "execution_count": 51,
   "metadata": {},
   "outputs": [
    {
     "data": {
      "text/plain": [
       "Index(['taiwan_indep', 'religion', 'political_party', 'wsel', 'birth_year',\n",
       "       'pre_ele_101', 'marriage', 'mothe_house_income', 'zip', 'edu', 'id',\n",
       "       'pre_ele_97', 'gender', 'month_income', 'wave', 'taiwanese_or_chinese',\n",
       "       'ssu', 'stratum2', 'qtype', 'year_m', 'year', 'psu'],\n",
       "      dtype='object')"
      ]
     },
     "execution_count": 51,
     "metadata": {},
     "output_type": "execute_result"
    }
   ],
   "source": [
    "data_merge.columns"
   ]
  },
  {
   "cell_type": "markdown",
   "metadata": {},
   "source": [
    "### And eliminate those which we don't need\n"
   ]
  },
  {
   "cell_type": "code",
   "execution_count": 52,
   "metadata": {},
   "outputs": [],
   "source": [
    "data_merge = data_merge.drop(\n",
    "    columns=[\"zip\", \"stratum2\", \"year_m\", \"wave\", \"psu\", \"wsel\", \"id\", \"qtype\", \"ssu\"]\n",
    ")"
   ]
  },
  {
   "cell_type": "markdown",
   "metadata": {},
   "source": [
    "## Normalizing of variables in each column for easier navigation.\n"
   ]
  },
  {
   "cell_type": "markdown",
   "metadata": {},
   "source": [
    "### We now need to see which values columns have and normalize those values into simpler categories. For example: The political_party columns has the following values which, for this analysis, are too many.\n"
   ]
  },
  {
   "cell_type": "code",
   "execution_count": 53,
   "metadata": {},
   "outputs": [
    {
     "data": {
      "text/plain": [
       "political_party\n",
       "都沒有___都支持      1165\n",
       "都差不多           1115\n",
       "都沒有/都支持         838\n",
       "跳答              749\n",
       "國民黨             605\n",
       "民進黨             406\n",
       "國民黨(跳答h7)       249\n",
       "民進黨(跳答h7)       203\n",
       "泛藍              131\n",
       "泛綠              114\n",
       "不知道              95\n",
       "拒答               86\n",
       "無黨籍(跳答h7)        41\n",
       "有偏向政黨,不願意回答      21\n",
       "親民黨              13\n",
       "有支持政黨,但不回答       12\n",
       "親民黨(跳答h7)        12\n",
       "綠黨               12\n",
       "台聯黨               9\n",
       "其他政黨,請說明          8\n",
       "新黨                7\n",
       "新黨(跳答h7)          3\n",
       "台聯(跳答h7)          2\n",
       "建國黨               1\n",
       "台聯                1\n",
       "其他                1\n",
       "Name: count, dtype: int64"
      ]
     },
     "execution_count": 53,
     "metadata": {},
     "output_type": "execute_result"
    }
   ],
   "source": [
    "data_merge[\"political_party\"].value_counts()"
   ]
  },
  {
   "cell_type": "markdown",
   "metadata": {},
   "source": [
    "### Or the birth_year column has non-numeric values\n"
   ]
  },
  {
   "cell_type": "code",
   "execution_count": 54,
   "metadata": {},
   "outputs": [
    {
     "data": {
      "text/plain": [
       "taiwan_indep            object\n",
       "religion                object\n",
       "political_party         object\n",
       "birth_year              object\n",
       "pre_ele_101             object\n",
       "marriage                object\n",
       "mothe_house_income      object\n",
       "edu                     object\n",
       "pre_ele_97              object\n",
       "gender                  object\n",
       "month_income            object\n",
       "taiwanese_or_chinese    object\n",
       "year                     int64\n",
       "dtype: object"
      ]
     },
     "execution_count": 54,
     "metadata": {},
     "output_type": "execute_result"
    }
   ],
   "source": [
    "data_merge.dtypes\n",
    "# Int and floats are numeric while object are usually a combination of strings, ints, etc..."
   ]
  },
  {
   "cell_type": "code",
   "execution_count": 55,
   "metadata": {},
   "outputs": [],
   "source": [
    "# Let's extract columns where birth_year is only numbers...\n",
    "# Run to_numeric to try and convert to number, if not possible then return NA, then use notnull to return non-NA values\n",
    "# i.e. Return only numbers\n",
    "data_merge = data_merge[\n",
    "    pd.to_numeric(data_merge[\"birth_year\"], errors=\"coerce\").notnull()\n",
    "]\n",
    "data_merge[\"birth_year\"] = data_merge[\"birth_year\"].astype(\"int\")"
   ]
  },
  {
   "cell_type": "markdown",
   "metadata": {},
   "source": [
    "### Most of the columns will only require some renaming of variables into categories (e.g. \"M\" and \"Male\" should only be one category \"Male). A simple example of renaming can be seen as follows.\n"
   ]
  },
  {
   "cell_type": "code",
   "execution_count": 56,
   "metadata": {},
   "outputs": [
    {
     "data": {
      "text/plain": [
       "['男性', '女性']\n",
       "Categories (2, object): ['男性', '女性']"
      ]
     },
     "execution_count": 56,
     "metadata": {},
     "output_type": "execute_result"
    }
   ],
   "source": [
    "data_merge.loc[data_merge[\"gender\"] == \"男\", \"gender\"] = (\n",
    "    \"男性\"  # Find the values on the left and assign the value on the right\n",
    "\n",
    ")\n",
    "data_merge.loc[data_merge[\"gender\"] == \"女\", \"gender\"] = \"女性\"\n",
    "\n",
    "\n",
    "# Create categories list in order desired (Order can be ignored later.)\n",
    "\n",
    "gender_categories = [\"男性\", \"女性\"]\n",
    "\n",
    "\n",
    "data_merge[\"gender\"] = pd.Categorical(\n",
    "    data_merge[\"gender\"], categories=gender_categories\n",
    ")\n",
    "\n",
    "\n",
    "data_merge[\"gender\"].unique()"
   ]
  },
  {
   "cell_type": "markdown",
   "metadata": {},
   "source": [
    "### We start by cleaning the political_party target column.\n"
   ]
  },
  {
   "cell_type": "code",
   "execution_count": 57,
   "metadata": {},
   "outputs": [
    {
     "data": {
      "text/plain": [
       "array(['Other', 'DPP', 'KMT'], dtype=object)"
      ]
     },
     "execution_count": 57,
     "metadata": {},
     "output_type": "execute_result"
    }
   ],
   "source": [
    "# Define the values to be replaced and the replacement string\n",
    "data_merge.loc[\n",
    "    data_merge[\"political_party\"].isin([\"民進黨(跳答h7)\", \"泛綠\", \"民進黨\"]),\n",
    "    \"political_party\",\n",
    "] = \"DPP\"\n",
    "data_merge.loc[\n",
    "    data_merge[\"political_party\"].isin([\"國民黨(跳答h7)\", \"泛藍\", \"國民黨\"]),\n",
    "    \"political_party\",\n",
    "] = \"KMT\"\n",
    "\n",
    "# Change all other values to 'other'\n",
    "data_merge.loc[\n",
    "    ~data_merge[\"political_party\"].isin([\"DPP\", \"KMT\"]), \"political_party\"\n",
    "] = \"Other\"\n",
    "data_merge[\"political_party\"].unique()"
   ]
  },
  {
   "cell_type": "markdown",
   "metadata": {},
   "source": [
    "### Do a similar process for our ethnic identification column. From this:...\n"
   ]
  },
  {
   "cell_type": "code",
   "execution_count": 58,
   "metadata": {},
   "outputs": [
    {
     "data": {
      "text/plain": [
       "array(['台灣人', '都是', '都不是', '中國人', '拒答', '不知道', '其他', '兩者都是', '兩者都不是,請說明',\n",
       "       '無法決定', '兩者都是:是台灣人也是中國人', '兩者都是:是中國人也是台灣人', '都不是,請說明', '無法選擇',\n",
       "       '不瞭解題意'], dtype=object)"
      ]
     },
     "execution_count": 58,
     "metadata": {},
     "output_type": "execute_result"
    }
   ],
   "source": [
    "# Output all values of the ethnic identification category\n",
    "data_merge[\"taiwanese_or_chinese\"].unique()"
   ]
  },
  {
   "cell_type": "markdown",
   "metadata": {},
   "source": [
    "### To this:\n"
   ]
  },
  {
   "cell_type": "code",
   "execution_count": 59,
   "metadata": {},
   "outputs": [
    {
     "data": {
      "text/plain": [
       "taiwanese_or_chinese\n",
       "Taiwanese    3985\n",
       "Both         1641\n",
       "Chinese       144\n",
       "Name: count, dtype: int64"
      ]
     },
     "execution_count": 59,
     "metadata": {},
     "output_type": "execute_result"
    }
   ],
   "source": [
    "both_categories = [\n",
    "    \"都是\",\n",
    "    \"兩者都是\",\n",
    "    \"兩者都是:是中國人也是台灣人\",\n",
    "    \"兩者都是:是台灣人也是中國人\",\n",
    "    \"兩者\",\n",
    "]\n",
    "\n",
    "\n",
    "data_merge.loc[\n",
    "    data_merge[\"taiwanese_or_chinese\"] == \"中國人\", \"taiwanese_or_chinese\"\n",
    "] = \"Chinese\"  # Find the values on the left and assign the value on the right\n",
    "\n",
    "data_merge.loc[\n",
    "    data_merge[\"taiwanese_or_chinese\"] == \"台灣人\", \"taiwanese_or_chinese\"\n",
    "] = \"Taiwanese\"\n",
    "\n",
    "\n",
    "data_merge.loc[\n",
    "    data_merge[\"taiwanese_or_chinese\"].isin(both_categories), \"taiwanese_or_chinese\"\n",
    "] = \"Both\"\n",
    "\n",
    "data_merge = data_merge.loc[\n",
    "    data_merge[\"taiwanese_or_chinese\"].isin([\"Taiwanese\", \"Chinese\", \"Both\"])\n",
    "]\n",
    "\n",
    "\n",
    "\n",
    "data_merge[\"taiwanese_or_chinese\"].value_counts()"
   ]
  },
  {
   "cell_type": "markdown",
   "metadata": {},
   "source": [
    "### For the other columns the process looks quite similar\n"
   ]
  },
  {
   "cell_type": "code",
   "execution_count": 60,
   "metadata": {},
   "outputs": [
    {
     "data": {
      "text/plain": [
       "pre_ele_101\n",
       "Ma Ying-Jiu      2216\n",
       "Other            1993\n",
       "Tsai Ying-Wen    1561\n",
       "Name: count, dtype: int64"
      ]
     },
     "execution_count": 60,
     "metadata": {},
     "output_type": "execute_result"
    }
   ],
   "source": [
    "data_merge[\"pre_ele_101\"].value_counts()\n",
    "\n",
    "data_merge.loc[data_merge[\"pre_ele_101\"].str.contains(\"蔡英文\"), \"pre_ele_101\"] = (\n",
    "    \"Tsai Ying-Wen\"\n",
    ")\n",
    "data_merge.loc[data_merge[\"pre_ele_101\"].str.contains(\"馬英九\"), \"pre_ele_101\"] = (\n",
    "    \"Ma Ying-Jiu\"\n",
    ")\n",
    "data_merge.loc[\n",
    "    ~data_merge[\"pre_ele_101\"].isin([\"Tsai Ying-Wen\", \"Ma Ying-Jiu\"]), \"pre_ele_101\"\n",
    "] = \"Other\"\n",
    "data_merge[\"pre_ele_101\"].value_counts()"
   ]
  },
  {
   "cell_type": "code",
   "execution_count": 61,
   "metadata": {},
   "outputs": [
    {
     "data": {
      "text/plain": [
       "pre_ele_97\n",
       "Other          3345\n",
       "Ma Ying-Jiu    1646\n",
       "Frank Hsieh     779\n",
       "Name: count, dtype: int64"
      ]
     },
     "execution_count": 61,
     "metadata": {},
     "output_type": "execute_result"
    }
   ],
   "source": [
    "data_merge.loc[data_merge[\"pre_ele_97\"].str.contains(\"謝長廷\"), \"pre_ele_97\"] = (\n",
    "    \"Frank Hsieh\"\n",
    "\n",
    ")\n",
    "data_merge.loc[data_merge[\"pre_ele_97\"].str.contains(\"馬英九\"), \"pre_ele_97\"] = (\n",
    "    \"Ma Ying-Jiu\"\n",
    "\n",
    ")\n",
    "data_merge.loc[\n",
    "    ~data_merge[\"pre_ele_97\"].isin([\"Frank Hsieh\", \"Ma Ying-Jiu\"]), \"pre_ele_97\"\n",
    "] = \"Other\"\n",
    "\n",
    "data_merge[\"pre_ele_97\"].value_counts()"
   ]
  },
  {
   "cell_type": "code",
   "execution_count": 62,
   "metadata": {},
   "outputs": [
    {
     "data": {
      "text/plain": [
       "edu\n",
       "Secondary Education    2781\n",
       "Undergraduate          1414\n",
       "Primary Education       810\n",
       "Graduate                346\n",
       "Other                   312\n",
       "Military Education       78\n",
       "Doctorate                29\n",
       "Name: count, dtype: int64"
      ]
     },
     "execution_count": 62,
     "metadata": {},
     "output_type": "execute_result"
    }
   ],
   "source": [
    "data_merge.loc[data_merge[\"edu\"].str.contains(\"小學\"), \"edu\"] = \"Primary Education\"\n",
    "data_merge.loc[data_merge[\"edu\"].str.contains(\"軍|士官\"), \"edu\"] = \"Military Education\"\n",
    "data_merge.loc[data_merge[\"edu\"].str.contains(\"專|高|國\"), \"edu\"] = (\n",
    "    \"Secondary Education\"\n",
    ")\n",
    "data_merge.loc[data_merge[\"edu\"].str.contains(\"大\"), \"edu\"] = \"Undergraduate\"\n",
    "data_merge.loc[data_merge[\"edu\"].str.contains(\"碩\"), \"edu\"] = \"Graduate\"\n",
    "data_merge.loc[data_merge[\"edu\"].str.contains(\"博\"), \"edu\"] = \"Doctorate\"\n",
    "\n",
    "# Set the non-above values to other\n",
    "data_merge.loc[\n",
    "    ~data_merge[\"edu\"].isin(\n",
    "        [\n",
    "            \"Primary Education\",\n",
    "            \"Military Education\",\n",
    "            \"Secondary Education\",\n",
    "            \"Undergraduate\",\n",
    "            \"Graduate\",\n",
    "            \"Doctorate\",\n",
    "        ]\n",
    "    ),\n",
    "    \"edu\",\n",
    "] = \"Other\"\n",
    "\n",
    "# Create sorted value list for the education category\n",
    "education_categories = [\n",
    "    \"Other\",\n",
    "    \"Military Education\",\n",
    "    \"Primary Education\",\n",
    "    \"Secondary Education\",\n",
    "    \"Undergraduate\",\n",
    "    \"Graduate\",\n",
    "    \"Doctorate\",\n",
    "]\n",
    "\n",
    "# Transform education column into categorical for sorting by the above list\n",
    "data_merge[\"edu\"] = pd.Categorical(data_merge[\"edu\"], categories=education_categories)\n",
    "\n",
    "\n",
    "data_merge[\"edu\"].value_counts()"
   ]
  },
  {
   "cell_type": "code",
   "execution_count": 63,
   "metadata": {},
   "outputs": [
    {
     "data": {
      "text/plain": [
       "marriage\n",
       "Married (Live Together)      3424\n",
       "Single                       1647\n",
       "Widowed                       437\n",
       "Divorced                      242\n",
       "Married (Live Separately)      20\n",
       "Name: count, dtype: int64"
      ]
     },
     "execution_count": 63,
     "metadata": {},
     "output_type": "execute_result"
    }
   ],
   "source": [
    "data_merge.loc[data_merge[\"marriage\"].str.contains(\"已婚|同居\"), \"marriage\"] = (\n",
    "    \"Married (Live Together)\"\n",
    "\n",
    ")\n",
    "data_merge.loc[data_merge[\"marriage\"].str.contains(\"已婚但|分居\"), \"marriage\"] = (\n",
    "    \"Married (Live Separately)\"\n",
    "\n",
    ")\n",
    "data_merge.loc[data_merge[\"marriage\"].str.contains(\"離婚\"), \"marriage\"] = \"Divorced\"\n",
    "\n",
    "data_merge.loc[data_merge[\"marriage\"].str.contains(\"去世\"), \"marriage\"] = \"Widowed\"\n",
    "\n",
    "data_merge.loc[data_merge[\"marriage\"].str.contains(\"單身\"), \"marriage\"] = \"Single\"\n",
    "\n",
    "data_merge.loc[data_merge[\"marriage\"].str.contains(\"拒|其他\"), \"marriage\"] = \"Other\"\n",
    "\n",
    "\n",
    "data_merge[\"marriage\"].value_counts()"
   ]
  },
  {
   "cell_type": "code",
   "execution_count": 64,
   "metadata": {},
   "outputs": [],
   "source": [
    "# Put unclear variables into variables\n",
    "data_merge.loc[\n",
    "    data_merge[\"mothe_house_income\"].str.contains(\"拒|不知道\"), \"mothe_house_income\"\n",
    "] = \"Other\"\n",
    "\n",
    "# Clean \"repeated\" variables\n",
    "data_merge.loc[data_merge[\"mothe_house_income\"] == \"沒有收入\", \"mothe_house_income\"] = (\n",
    "    \"無收入\"\n",
    ")\n",
    "\n",
    "# Create sorted value list for the salary category\n",
    "salary_categories = [\n",
    "    \"無收入\",\n",
    "    \"1萬元以下\",\n",
    "    \"1-2萬元以下\",\n",
    "    \"2-3萬元以下\",\n",
    "    \"3-4萬元以下\",\n",
    "    \"4-5萬元以下\",\n",
    "    \"5-6萬元以下\",\n",
    "    \"6-7萬元以下\",\n",
    "    \"7-8萬元以下\",\n",
    "    \"8-9萬元以下\",\n",
    "    \"9-10萬元以下\",\n",
    "    \"10-11萬元以下\",\n",
    "    \"11-12萬元以下\",\n",
    "    \"12-13萬元以下\",\n",
    "    \"13-14萬元以下\",\n",
    "    \"14-15萬元以下\",\n",
    "    \"15-16萬元以下\",\n",
    "    \"16-17萬元以下\",\n",
    "    \"17-18萬元以下\",\n",
    "    \"18-19萬元以下\",\n",
    "    \"19-20萬元以下\",\n",
    "    \"20-30萬元以下\",\n",
    "    \"30-40萬元以下\",\n",
    "    \"40-50萬元以下\",\n",
    "    \"50-100萬元以下\",\n",
    "    \"100萬元以上\",\n",
    "    \"Other\",\n",
    "]\n",
    "\n",
    "# Transform income column into categorical for sorting by the above list\n",
    "data_merge[\"mothe_house_income\"] = pd.Categorical(\n",
    "    data_merge[\"mothe_house_income\"], categories=salary_categories, ordered=True\n",
    ")"
   ]
  },
  {
   "cell_type": "code",
   "execution_count": 65,
   "metadata": {},
   "outputs": [],
   "source": [
    "# Put unclear variables into variables\n",
    "data_merge.loc[\n",
    "    data_merge[\"month_income\"].str.contains(\"拒|不知道|不瞭解題意|遺漏值\"),\n",
    "    \"month_income\",\n",
    "] = \"Other\"\n",
    "\n",
    "# Clean \"repeated\" variables\n",
    "data_merge.loc[\n",
    "    data_merge[\"month_income\"].str.contains(\"沒有收入|沒有工作\"), \"month_income\"\n",
    "] = \"無收入\"\n",
    "\n",
    "# Create sorted value list for the salary category\n",
    "salary_categories = [\n",
    "    \"無收入\",\n",
    "    \"1萬元以下\",\n",
    "    \"1-2萬元以下\",\n",
    "    \"2-3萬元以下\",\n",
    "    \"3-4萬元以下\",\n",
    "    \"4-5萬元以下\",\n",
    "    \"5-6萬元以下\",\n",
    "    \"6-7萬元以下\",\n",
    "    \"7-8萬元以下\",\n",
    "    \"8-9萬元以下\",\n",
    "    \"9-10萬元以下\",\n",
    "    \"10-11萬元以下\",\n",
    "    \"11-12萬元以下\",\n",
    "    \"12-13萬元以下\",\n",
    "    \"13-14萬元以下\",\n",
    "    \"14-15萬元以下\",\n",
    "    \"15-16萬元以下\",\n",
    "    \"16-17萬元以下\",\n",
    "    \"17-18萬元以下\",\n",
    "    \"18-19萬元以下\",\n",
    "    \"19-20萬元以下\",\n",
    "    \"20-30萬元以下\",\n",
    "    \"30-40萬元以下\",\n",
    "    \"40-50萬元以下\",\n",
    "    \"50-100萬元以下\",\n",
    "    \"100萬元以上\",\n",
    "    \"Other\",\n",
    "]\n",
    "\n",
    "# Transform income column into categorical for sorting by the above list\n",
    "data_merge[\"month_income\"] = pd.Categorical(\n",
    "    data_merge[\"month_income\"], categories=salary_categories, ordered=True\n",
    ")"
   ]
  },
  {
   "cell_type": "code",
   "execution_count": 66,
   "metadata": {},
   "outputs": [
    {
     "data": {
      "text/plain": [
       "taiwan_indep\n",
       "Status Quo      4887\n",
       "Independence     445\n",
       "Other            326\n",
       "Unification      112\n",
       "Name: count, dtype: int64"
      ]
     },
     "execution_count": 66,
     "metadata": {},
     "output_type": "execute_result"
    }
   ],
   "source": [
    "data_merge.loc[data_merge[\"taiwan_indep\"].str.contains(\"現狀\"), \"taiwan_indep\"] = (\n",
    "    \"Status Quo\"\n",
    ")\n",
    "\n",
    "data_merge.loc[data_merge[\"taiwan_indep\"].str.contains(\"統一\"), \"taiwan_indep\"] = (\n",
    "    \"Unification\"\n",
    ")\n",
    "\n",
    "data_merge.loc[data_merge[\"taiwan_indep\"].str.contains(\"獨立\"), \"taiwan_indep\"] = (\n",
    "    \"Independence\"\n",
    ")\n",
    "\n",
    "data_merge.loc[\n",
    "    ~data_merge[\"taiwan_indep\"].isin([\"Status Quo\", \"Independence\", \"Unification\"]),\n",
    "    \"taiwan_indep\",\n",
    "] = \"Other\"\n",
    "\n",
    "\n",
    "data_merge[\"taiwan_indep\"].value_counts()"
   ]
  },
  {
   "cell_type": "code",
   "execution_count": 67,
   "metadata": {},
   "outputs": [],
   "source": [
    "data_merge.loc[data_merge[\"religion\"].isna(), \"religion\"] = \"Other\""
   ]
  },
  {
   "cell_type": "markdown",
   "metadata": {},
   "source": [
    "## Convert non-categorical columns to categorical\n"
   ]
  },
  {
   "cell_type": "code",
   "execution_count": 68,
   "metadata": {},
   "outputs": [],
   "source": [
    "# Finish turning remaining columns into categorical columns based on their post-cleaning unique values\n",
    "for column in data_merge:\n",
    "    if (\n",
    "        data_merge[column].dtype == \"object\"\n",
    "    ):  # Filter only columns that are still object (i.e. not numeric and not categorical)\n",
    "        unique_to_cat = data_merge[column].unique()\n",
    "        data_merge[column] = pd.Categorical(\n",
    "            data_merge[column], categories=unique_to_cat\n",
    "        )"
   ]
  },
  {
   "cell_type": "markdown",
   "metadata": {},
   "source": [
    "### Compare with column type at the beginning of cleaning section...\n"
   ]
  },
  {
   "cell_type": "code",
   "execution_count": 69,
   "metadata": {},
   "outputs": [
    {
     "data": {
      "text/plain": [
       "taiwan_indep            category\n",
       "religion                category\n",
       "political_party         category\n",
       "birth_year                 int32\n",
       "pre_ele_101             category\n",
       "marriage                category\n",
       "mothe_house_income      category\n",
       "edu                     category\n",
       "pre_ele_97              category\n",
       "gender                  category\n",
       "month_income            category\n",
       "taiwanese_or_chinese    category\n",
       "year                       int64\n",
       "dtype: object"
      ]
     },
     "execution_count": 69,
     "metadata": {},
     "output_type": "execute_result"
    }
   ],
   "source": [
    "data_merge.dtypes"
   ]
  },
  {
   "cell_type": "markdown",
   "metadata": {},
   "source": [
    "# Section 2: Visualization\n"
   ]
  },
  {
   "cell_type": "code",
   "execution_count": 69,
   "metadata": {},
   "outputs": [],
   "source": [
    "#Import our visualization tool Plotnine\n",
    "import matplotlib.pyplot as plt\n",
    "import seaborn as sns\n",
    "\n",
    "sns.set(style=\"whitegrid\")\n",
    "sns.set_color_codes(\"pastel\")\n",
    "sns.set(font=\"SimSun\")\n",
    "%matplotlib inline"
   ]
  },
  {
   "cell_type": "markdown",
   "metadata": {},
   "source": [
    "## A quick visualization:\n"
   ]
  },
  {
   "cell_type": "code",
   "execution_count": 70,
   "metadata": {},
   "outputs": [
    {
     "data": {
      "image/png": "[encoded data removed]",
      "text/plain": [
       "<Figure size 640x480 with 1 Axes>"
      ]
     },
     "metadata": {},
     "output_type": "display_data"
    }
   ],
   "source": [
    "sns.histplot(data_merge[\"birth_year\"], binwidth=1)\n",
    "plt.show()"
   ]
  },
  {
   "cell_type": "markdown",
   "metadata": {},
   "source": [
    "### We can see as follows the distribution of political parties by self-identification and vice-versa, self-identification by political party.\n"
   ]
  },
  {
   "cell_type": "code",
   "execution_count": 71,
   "metadata": {},
   "outputs": [],
   "source": [
    "df_parties = data_merge[data_merge[\"political_party\"].isin([\"DPP\", \"KMT\"])]"
   ]
  },
  {
   "cell_type": "code",
   "execution_count": 72,
   "metadata": {},
   "outputs": [
    {
     "data": {
      "text/plain": [
       "[Text(0.5, 0, 'Ethnic Identification')]"
      ]
     },
     "execution_count": 72,
     "metadata": {},
     "output_type": "execute_result"
    },
    {
     "data": {
      "image/png": "[encoded data removed]",
      "text/plain": [
       "<Figure size 640x480 with 1 Axes>"
      ]
     },
     "metadata": {},
     "output_type": "display_data"
    }
   ],
   "source": [
    "color_palette_parties = {\"Other\": \"gray\", \"KMT\": \"blue\", \"DPP\": \"green\"}\n",
    "\n",
    "ax = sns.histplot(\n",
    "    data=data_merge,\n",
    "    x=\"taiwanese_or_chinese\",\n",
    "    hue=\"political_party\",\n",
    "    multiple=\"fill\",\n",
    "    stat=\"proportion\",\n",
    "    palette=color_palette_parties,\n",
    ")\n",
    "\n",
    "ax.legend(title=\"Political Party\", labels=df_parties[\"political_party\"].unique())\n",
    "ax.set(xlabel=\"Ethnic Identification\")"
   ]
  },
  {
   "cell_type": "code",
   "execution_count": 73,
   "metadata": {},
   "outputs": [
    {
     "data": {
      "text/plain": [
       "[Text(0.5, 0, 'Political Party')]"
      ]
     },
     "execution_count": 73,
     "metadata": {},
     "output_type": "execute_result"
    },
    {
     "data": {
      "image/png": "[encoded data removed]",
      "text/plain": [
       "<Figure size 640x480 with 1 Axes>"
      ]
     },
     "metadata": {},
     "output_type": "display_data"
    }
   ],
   "source": [
    "color_palette_ethnic = {\"Taiwanese\": \"blue\", \"Chinese\": \"red\", \"Both\": \"green\"}\n",
    "\n",
    "ax = sns.histplot(\n",
    "    data=df_parties,\n",
    "    x=\"political_party\",\n",
    "    hue=\"taiwanese_or_chinese\",\n",
    "    multiple=\"fill\",\n",
    "    stat=\"proportion\",\n",
    "    palette=color_palette_ethnic,\n",
    ")\n",
    "ax.legend(\n",
    "    title=\"Ethnic Identification\", labels=df_parties[\"taiwanese_or_chinese\"].unique()\n",
    ")\n",
    "ax.set(xlabel=\"Political Party\")"
   ]
  },
  {
   "cell_type": "markdown",
   "metadata": {},
   "source": [
    "People that identify as Chinese are more probable to vote KMT than other self-identifications.\n"
   ]
  },
  {
   "cell_type": "markdown",
   "metadata": {},
   "source": [
    "Although the margin is small, KMT voters tend to have a significantly higher amount of people that self-identify as Chinese.\n"
   ]
  },
  {
   "cell_type": "markdown",
   "metadata": {},
   "source": [
    "# Step 3: Machine Learning Classification\n"
   ]
  },
  {
   "cell_type": "code",
   "execution_count": 74,
   "metadata": {},
   "outputs": [],
   "source": [
    "# Modelling\n",
    "from sklearn.ensemble import RandomForestClassifier\n",
    "from sklearn.metrics import accuracy_score, precision_score, recall_score, f1_score\n",
    "from sklearn.model_selection import train_test_split"
   ]
  },
  {
   "cell_type": "markdown",
   "metadata": {},
   "source": [
    "### First we must eliminate unimportant values from our target column, such a political_party == 'Other'. This is because 'Other' is a majority class and could imbalance our classification model leading to subpar recall and precision metrics.\n"
   ]
  },
  {
   "cell_type": "markdown",
   "metadata": {},
   "source": [
    "### 'Other' is almost four times more sampled than the next biggest category, this majority representation can introduce bias in our model.\n"
   ]
  },
  {
   "cell_type": "code",
   "execution_count": 75,
   "metadata": {},
   "outputs": [
    {
     "data": {
      "text/plain": [
       "political_party\n",
       "Other    4081\n",
       "KMT       969\n",
       "DPP       720\n",
       "Name: count, dtype: int64"
      ]
     },
     "execution_count": 75,
     "metadata": {},
     "output_type": "execute_result"
    }
   ],
   "source": [
    "data_merge[\"political_party\"].value_counts()"
   ]
  },
  {
   "cell_type": "markdown",
   "metadata": {},
   "source": [
    "### The following model shows metrics for prediction when 'Other' is not removed. Observe that party classification models' non-Accuracy metrics are worse than the 'Other' category\n"
   ]
  },
  {
   "cell_type": "code",
   "execution_count": 76,
   "metadata": {},
   "outputs": [
    {
     "name": "stdout",
     "output_type": "stream",
     "text": [
      "For the Other predictor model: \n",
      " Accuracy 0.6793760831889082 \n",
      " Recall is: 0.8592964824120602 \n",
      " F1 Score: 0.7871116225546605 \n",
      " Precision 0.7261146496815286 \n",
      "\n",
      "\n",
      "For the DPP predictor model: \n",
      " Accuracy 0.865684575389948 \n",
      " Recall is: 0.2222222222222222 \n",
      " F1 Score: 0.2922374429223744 \n",
      " Precision 0.4266666666666667 \n",
      "\n",
      "\n",
      "For the KMT predictor model: \n",
      " Accuracy 0.817157712305026 \n",
      " Recall is: 0.26635514018691586 \n",
      " F1 Score: 0.3507692307692308 \n",
      " Precision 0.5135135135135135 \n",
      "\n",
      "\n"
     ]
    }
   ],
   "source": [
    "# View output of this block directly\n",
    "# This block is to view metrics of prediction model if 'Other' is not removed\n",
    "\n",
    "# Split the dataset into features (X) and target variable (y)\n",
    "X = data_merge.drop(\n",
    "    columns=[\"political_party\", \"year\", \"religion\"]\n",
    ")  # Drop non-target columns and not needed columns\n",
    "y = data_merge[\"political_party\"]  # Create target variable\n",
    "\n",
    "# Create new target variable for each separate target in target column\n",
    "# i.e This model is able to predict only one target at a time, for example, we can predict if a respondant votes Blue vs Not Blue or Green vs Not Green\n",
    "\n",
    "y_by_target = pd.get_dummies(y).astype(\"int\")\n",
    "# The above returns a column by categorical value in 1 or 0 format, such as:\n",
    "# KMT: [1, 0, 0, 1, 0] DPP:[0, 1, 1, 0, 0] Other: [0, 0, 0, 0, 1]\n",
    "# Note that together they all fill the original political_party column\n",
    "\n",
    "# We do the same for the categorical features:\n",
    "X_encoded = pd.get_dummies(X, columns=X.select_dtypes(include=[\"category\"]).columns)\n",
    "\n",
    "for column in y_by_target.columns:\n",
    "    # Split the dataset into training and testing sets\n",
    "    # We will start by predicting affiliation to the KMT\n",
    "    X_train, X_test, y_train, y_test = train_test_split(\n",
    "        X_encoded, y_by_target[column], test_size=0.2, random_state=42\n",
    "    )\n",
    "\n",
    "    # Initialize the Random Forest classifier\n",
    "    rf_classifier = (\n",
    "        RandomForestClassifier()\n",
    "    )  # You can adjust the number of trees (n_estimators) and other hyperparameters\n",
    "\n",
    "    # Train the classifier on the training data\n",
    "    rf_classifier.fit(X_train, y_train)\n",
    "\n",
    "    # Make predictions on the test data\n",
    "    y_pred = rf_classifier.predict(X_test)\n",
    "\n",
    "    # Evaluate the accuracy of the classifier\n",
    "    accuracy = accuracy_score(y_test, y_pred)\n",
    "    recall = recall_score(y_test, y_pred)\n",
    "    f1 = f1_score(y_test, y_pred)\n",
    "    precision = precision_score(y_test, y_pred)\n",
    "    print(\n",
    "        \"For the\",\n",
    "        column,\n",
    "        \"predictor model:\",\n",
    "        \"\\n Accuracy\",\n",
    "        accuracy,\n",
    "        \"\\n Recall is:\",\n",
    "        recall,\n",
    "        \"\\n F1 Score:\",\n",
    "        f1,\n",
    "        \"\\n Precision\",\n",
    "        precision,\n",
    "        \"\\n\\n\",\n",
    "    )"
   ]
  },
  {
   "cell_type": "markdown",
   "metadata": {},
   "source": [
    "### For the remaining of our modelling, we eliminate this 'Other' category.\n"
   ]
  },
  {
   "cell_type": "code",
   "execution_count": 77,
   "metadata": {},
   "outputs": [],
   "source": [
    "data_merge = data_merge[\n",
    "    data_merge[\"political_party\"] != \"Other\"\n",
    "]  # Eliminate the 'other' category"
   ]
  },
  {
   "cell_type": "code",
   "execution_count": 78,
   "metadata": {},
   "outputs": [],
   "source": [
    "# Split the dataset into features (X) and target variable (y)\n",
    "X = data_merge.drop(\n",
    "    columns=[\"political_party\", \"year\", \"religion\"]\n",
    ")  # Drop non-target columns and not needed columns\n",
    "y = data_merge[\"political_party\"]  # Create target variable\n",
    "\n",
    "# Create new target variable for each separate target in target column\n",
    "# i.e This model is able to predict only one target at a time, for example, we can predict if a respondant votes Blue vs Not Blue or Green vs Not Green\n",
    "\n",
    "y_by_target = pd.get_dummies(y).astype(\"int\")\n",
    "# The above returns a column by categorical value in 1 or 0 format, such as:\n",
    "# KMT: [1, 0, 0, 1, 0] DPP:[0, 1, 1, 0, 0] Other: [0, 0, 0, 0, 1]\n",
    "# Note that together they all fill the original political_party column\n",
    "\n",
    "# We do the same for the categorical features:\n",
    "X_encoded = pd.get_dummies(X, columns=X.select_dtypes(include=[\"category\"]).columns)"
   ]
  },
  {
   "cell_type": "code",
   "execution_count": 79,
   "metadata": {},
   "outputs": [
    {
     "name": "stdout",
     "output_type": "stream",
     "text": [
      "For the DPP predictor model: \n",
      " Accuracy 0.9319526627218935 \n",
      " Recall is: 0.903448275862069 \n",
      " F1 Score: 0.9192982456140351 \n",
      " Precision 0.9357142857142857\n"
     ]
    },
    {
     "data": {
      "image/png": "[encoded data removed]",
      "text/plain": [
       "<Figure size 640x480 with 1 Axes>"
      ]
     },
     "metadata": {},
     "output_type": "display_data"
    },
    {
     "name": "stdout",
     "output_type": "stream",
     "text": [
      "For the KMT predictor model: \n",
      " Accuracy 0.9230769230769231 \n",
      " Recall is: 0.9481865284974094 \n",
      " F1 Score: 0.9336734693877551 \n",
      " Precision 0.9195979899497487\n"
     ]
    },
    {
     "data": {
      "image/png": "[encoded data removed]",
      "text/plain": [
       "<Figure size 640x480 with 1 Axes>"
      ]
     },
     "metadata": {},
     "output_type": "display_data"
    }
   ],
   "source": [
    "for column in y_by_target.columns:\n",
    "    if column != \"Other\":\n",
    "        # Split the dataset into training and testing sets\n",
    "        # We will start by predicting affiliation to the KMT\n",
    "        X_train, X_test, y_train, y_test = train_test_split(\n",
    "            X_encoded, y_by_target[column], test_size=0.2, random_state=42\n",
    "        )\n",
    "\n",
    "        # Initialize the Random Forest classifier\n",
    "        rf_classifier = (\n",
    "            RandomForestClassifier()\n",
    "        )  # You can adjust the number of trees (n_estimators) and other hyperparameters\n",
    "\n",
    "        # Train the classifier on the training data\n",
    "        rf_classifier.fit(X_train, y_train)\n",
    "\n",
    "        # Make predictions on the test data\n",
    "        y_pred = rf_classifier.predict(X_test)\n",
    "\n",
    "        # Evaluate the accuracy of the classifier\n",
    "        accuracy = accuracy_score(y_test, y_pred)\n",
    "        recall = recall_score(y_test, y_pred)\n",
    "        f1 = f1_score(y_test, y_pred)\n",
    "        precision = precision_score(y_test, y_pred)\n",
    "        print(\n",
    "            \"For the\",\n",
    "            column,\n",
    "            \"predictor model:\",\n",
    "            \"\\n Accuracy\",\n",
    "            accuracy,\n",
    "            \"\\n Recall is:\",\n",
    "            recall,\n",
    "            \"\\n F1 Score:\",\n",
    "            f1,\n",
    "            \"\\n Precision\",\n",
    "            precision,\n",
    "        )\n",
    "\n",
    "        feat_importances = pd.Series(\n",
    "            rf_classifier.feature_importances_, index=X_encoded.columns\n",
    "        )\n",
    "        ax = feat_importances.nlargest(20).plot(kind=\"barh\")\n",
    "        ax.invert_yaxis()  # Invert y-axis\n",
    "        plt.title(f\"Top 20 Feature Importances for {column}\")\n",
    "        plt.xlabel(\"Importance\")\n",
    "        plt.ylabel(\"Feature\")\n",
    "        plt.show()  # Display the plot"
   ]
  },
  {
   "cell_type": "markdown",
   "metadata": {},
   "source": [
    "Recall, precision and F1 Scores are much improved thanks to target feature simplification\n"
   ]
  },
  {
   "cell_type": "markdown",
   "metadata": {},
   "source": [
    "### We can see from above that the most important features are voting preference in the previous election (to the polling date), birth year, ethnic/national identification, and their stance on independence. Most general demographics seem to not be as important to our Random Tree model.\n"
   ]
  },
  {
   "cell_type": "markdown",
   "metadata": {},
   "source": [
    "### We can run a logistic regression model isolating each feature and our target to see how the above important features relate with our target. For example, does birth_year relate positively or negatively with our target in each model (i.e Does higher birth_year (younger) result in positive or negative correlation to, say, KMT?)\n"
   ]
  },
  {
   "cell_type": "code",
   "execution_count": 80,
   "metadata": {},
   "outputs": [],
   "source": [
    "X.columns\n",
    "\n",
    "isolated_features = [\n",
    "    \"birth_year\",\n",
    "    \"taiwanese_or_chinese\",\n",
    "    \"pre_ele_101\",\n",
    "    \"pre_ele_97\",\n",
    "    \"taiwan_indep\",\n",
    "]\n",
    "\n",
    "X_isolated_features = pd.DataFrame(X, columns=isolated_features)\n",
    "\n",
    "X_isolated_features = pd.get_dummies(\n",
    "    X_isolated_features,\n",
    "    columns=X_isolated_features.select_dtypes(include=[\"category\"]).columns,\n",
    ")"
   ]
  },
  {
   "cell_type": "code",
   "execution_count": 81,
   "metadata": {},
   "outputs": [
    {
     "name": "stdout",
     "output_type": "stream",
     "text": [
      "\n",
      " The features with positive correlation with our target DPP are:\n",
      "taiwanese_or_chinese_Taiwanese with coefficient [2.13613732]\n",
      "pre_ele_101_Tsai Ying-Wen with coefficient [4.93984751]\n",
      "pre_ele_97_Frank Hsieh with coefficient [4.11903724]\n",
      "taiwan_indep_Independence with coefficient [1.98987456]\n",
      "\n",
      " The features with negative correlation with our target DPP are:\n",
      "taiwanese_or_chinese_Both with coefficient [-1.91768303]\n",
      "taiwanese_or_chinese_Chinese with coefficient [-2.01847196]\n",
      "pre_ele_101_Ma Ying-Jiu with coefficient [-4.82265533]\n",
      "pre_ele_97_Ma Ying-Jiu with coefficient [-3.25715507]\n",
      "taiwan_indep_Status Quo with coefficient [-0.98751756]\n",
      "taiwan_indep_Unification with coefficient [-0.96266257]\n",
      "\n",
      " The features with positive correlation with our target KMT are:\n",
      "taiwanese_or_chinese_Both with coefficient [1.91768303]\n",
      "taiwanese_or_chinese_Chinese with coefficient [2.01847196]\n",
      "pre_ele_101_Ma Ying-Jiu with coefficient [4.82265533]\n",
      "pre_ele_97_Ma Ying-Jiu with coefficient [3.25715507]\n",
      "taiwan_indep_Status Quo with coefficient [0.98751756]\n",
      "taiwan_indep_Unification with coefficient [0.96266257]\n",
      "\n",
      " The features with negative correlation with our target KMT are:\n",
      "taiwanese_or_chinese_Taiwanese with coefficient [-2.13613732]\n",
      "pre_ele_101_Tsai Ying-Wen with coefficient [-4.93984751]\n",
      "pre_ele_97_Frank Hsieh with coefficient [-4.11903724]\n",
      "taiwan_indep_Independence with coefficient [-1.98987456]\n"
     ]
    }
   ],
   "source": [
    "from sklearn.linear_model import LogisticRegression\n",
    "from scipy.stats import pearsonr\n",
    "\n",
    "positive_coefficients = []\n",
    "negative_coefficients = []\n",
    "\n",
    "for column_y in y_by_target.columns:\n",
    "    if column_y != \"Other\":\n",
    "        for column_X in X_isolated_features.columns:\n",
    "\n",
    "            current_feature = X_isolated_features[column_X]\n",
    "            current_target = y_by_target[column_y]\n",
    "\n",
    "            # Build a simple linear regression model\n",
    "            model = LogisticRegression()\n",
    "            model.fit(current_feature.to_frame(), current_target)\n",
    "\n",
    "            # Print the intercept and coefficient\n",
    "            # print(f\"Intercept: {model.intercept_}\")\n",
    "            # print(f\"Coefficient for {column_X} on {column_y}: {model.coef_[0]}  \\n\")\n",
    "\n",
    "            if model.coef_[0] > 0.90:\n",
    "                positive_coefficients.append([column_X, model.coef_[0]])\n",
    "            elif model.coef_[0] < -0.90:\n",
    "                negative_coefficients.append([column_X, model.coef_[0]])\n",
    "\n",
    "        # Print features with positive and negative coefficients\n",
    "        print(\n",
    "            f\"\\n The features with positive correlation with our target {column_y} are:\"\n",
    "        )\n",
    "        for coef in positive_coefficients:\n",
    "            print(f\"{coef[0]} with coefficient {coef[1]}\")\n",
    "\n",
    "        print(\n",
    "            f\"\\n The features with negative correlation with our target {column_y} are:\"\n",
    "        )\n",
    "        for coef in negative_coefficients:\n",
    "            print(f\"{coef[0]} with coefficient {coef[1]}\")\n",
    "\n",
    "        positive_coefficients = []\n",
    "        negative_coefficients = []"
   ]
  },
  {
   "cell_type": "markdown",
   "metadata": {},
   "source": [
    "### We can see from the above results that the most related predictor of party affiliation is, unsurprisingly, voting history. In this case, voters of Ma Ying-Jiu tend to align themselves more to the KMT, while voters of other candidates and, more strongly, past voters for DPP candidates align themselves with the DPP.\n",
    "\n",
    "### As well, it can be emphasized almost how much of an effect ethnic/national self-identification has on party alignment. Here people who regard themselves as Taiwanese, in opposition to Chinese or both Taiwanese and Chinese, tend to be positively correlated with DPP alignment. Whereas, people regarding themselves as Chinese or both Taiwanese and Chinese tend to align themselves more with the KMT Party\n",
    "\n",
    "### Same trend seems to happen for stances on Taiwanese independence. DPP supporters seem to tend more likely to support independence, while KMT supporters prefer unification. It is worth to note that supporting Status Quo on Taiwanese independence seems to be more positively correlated with KMT alignment.\n"
   ]
  }
 ],
 "metadata": {
  "kernelspec": {
   "display_name": "Python 3 (ipykernel)",
   "language": "python",
   "name": "python3"
  },
  "language_info": {
   "codemirror_mode": {
    "name": "ipython",
    "version": 3
   },
   "file_extension": ".py",
   "mimetype": "text/x-python",
   "name": "python",
   "nbconvert_exporter": "python",
   "pygments_lexer": "ipython3",
   "version": "3.12.2"
  }
 },
 "nbformat": 4,
 "nbformat_minor": 2
}
