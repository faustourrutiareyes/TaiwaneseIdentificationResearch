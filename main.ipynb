{
 "cells": [
  {
   "cell_type": "markdown",
   "metadata": {},
   "source": [
    "## Section 1: Data Cleaning\n"
   ]
  },
  {
   "cell_type": "markdown",
   "metadata": {},
   "source": [
    "### Import datasets into project and join by shared columns\n"
   ]
  },
  {
   "cell_type": "code",
   "execution_count": 373,
   "metadata": {},
   "outputs": [],
   "source": [
    "#Import OS for accesing system folders\n",
    "import os as os\n",
    "\n",
    "#Import Pandas for conversion of .csv into dataframes and usage of Pandas library\n",
    "import pandas as pd\n",
    "import numpy as np"
   ]
  },
  {
   "cell_type": "code",
   "execution_count": 374,
   "metadata": {},
   "outputs": [],
   "source": [
    "#Set folder_path from our current directory\n",
    "folder_path = os.getcwd()\n",
    "\n",
    "#Update folder_path to Data/ folder to access .csv files\n",
    "folder_path = os.path.join(folder_path, r'Data')"
   ]
  },
  {
   "cell_type": "code",
   "execution_count": 375,
   "metadata": {},
   "outputs": [
    {
     "data": {
      "text/plain": [
       "['2012_cleaned.csv', '2013_cleaned.csv', '2014_cleaned.csv']"
      ]
     },
     "execution_count": 375,
     "metadata": {},
     "output_type": "execute_result"
    }
   ],
   "source": [
    "#Check that the files needed are in the folder\n",
    "os.listdir(folder_path)"
   ]
  },
  {
   "cell_type": "markdown",
   "metadata": {},
   "source": [
    "Our first issue with these tables is that not all of them possess the same columns (only the names are the same). Therefore, we need to extract only the columns that all three tables have in common to avoid problems when merging into a bigger dataframe."
   ]
  },
  {
   "cell_type": "code",
   "execution_count": 376,
   "metadata": {},
   "outputs": [
    {
     "name": "stdout",
     "output_type": "stream",
     "text": [
      "2012_cleaned.csv has 29 columns\n",
      "2013_cleaned.csv has 28 columns\n",
      "2014_cleaned.csv has 37 columns\n"
     ]
    }
   ],
   "source": [
    "#Proof: columns are different for each .csv\n",
    "\n",
    "#Loop through each file by name of files as in:\n",
    "#['2012_cleaned.csv', '2013_cleaned.csv', '2014_cleaned.csv']\n",
    "for file_name in os.listdir(folder_path):\n",
    "    current_file_path = os.path.join(folder_path, file_name)\n",
    "    current_df = pd.read_csv(current_file_path) #Convert the current .csv into a df to use Pandas columns() module\n",
    "    print(file_name, \"has\", len(current_df.columns), \"columns\") #Check columns are not equal just by looking at amount of columns in each table"
   ]
  },
  {
   "cell_type": "markdown",
   "metadata": {},
   "source": [
    "Our first table has 29, our second 28, and our last one 37. When adding the tables, this will result in columns with many NA values. We must eliminate the \"extra\" columns first."
   ]
  },
  {
   "cell_type": "code",
   "execution_count": 377,
   "metadata": {},
   "outputs": [],
   "source": [
    "#Run a similar loop as above to created a nested list of all columns, to intersect later\n",
    "\n",
    "columns_in_tables = []\n",
    "\n",
    "for file_name in os.listdir(folder_path):\n",
    "    current_file_path = os.path.join(folder_path, file_name)\n",
    "    current_df = pd.read_csv(current_file_path)\n",
    "    \n",
    "    #Put all columns for each column in the list created above\n",
    "    #Will look something like the following:\n",
    "    #[[table1_column1][table1_column2],[table2_column1]...,[table3_column3]...]\n",
    "    columns_in_tables.append(current_df.columns)"
   ]
  },
  {
   "cell_type": "code",
   "execution_count": 378,
   "metadata": {},
   "outputs": [],
   "source": [
    "#For finding which columns are in every table we need to run an intersection\n",
    "#Python does this by turning a nested list into a list of sets.\n",
    "\n",
    "shared_columns = list(set.intersection(*map(set, columns_in_tables))) #* as in *args for multiple arguments input\n",
    "#The map() function turns each element (sublist of columns) into a set which \n",
    "#We then turn the set back into a list and store it in shared_columns"
   ]
  },
  {
   "cell_type": "code",
   "execution_count": 379,
   "metadata": {},
   "outputs": [],
   "source": [
    "#Modify the above for loop to put all tables in a single dataframe and select only shared_columns\n",
    "\n",
    "data_merge = pd.DataFrame() #Initialize empty df \n",
    "dataframes = [] #Initialize empty list for use in pd.concat which accepts lists only\n",
    "\n",
    "for file_name in os.listdir(folder_path):\n",
    "    current_file_path = os.path.join(folder_path, file_name)\n",
    "    current_df = pd.read_csv(current_file_path)\n",
    "    dataframes.append(current_df)\n",
    "    \n",
    "data_merge = pd.concat(dataframes)\n",
    "data_merge = data_merge[list(shared_columns)]"
   ]
  },
  {
   "cell_type": "markdown",
   "metadata": {},
   "source": [
    "We can now see the columns we have to work with."
   ]
  },
  {
   "cell_type": "code",
   "execution_count": 380,
   "metadata": {},
   "outputs": [
    {
     "data": {
      "text/plain": [
       "Index(['zip', 'stratum2', 'year_m', 'wave', 'pre_ele_97', 'psu',\n",
       "       'mothe_house_income', 'birth_year', 'taiwanese_or_chinese', 'marriage',\n",
       "       'taiwan_indep', 'gender', 'religion', 'month_income', 'pre_ele_101',\n",
       "       'id', 'qtype', 'wsel', 'ssu', 'year', 'political_party', 'edu'],\n",
       "      dtype='object')"
      ]
     },
     "execution_count": 380,
     "metadata": {},
     "output_type": "execute_result"
    }
   ],
   "source": [
    "data_merge.columns"
   ]
  },
  {
   "cell_type": "markdown",
   "metadata": {},
   "source": [
    "And eliminate those which we don't need"
   ]
  },
  {
   "cell_type": "code",
   "execution_count": 381,
   "metadata": {},
   "outputs": [
    {
     "data": {
      "text/plain": [
       "Index(['pre_ele_97', 'mothe_house_income', 'birth_year',\n",
       "       'taiwanese_or_chinese', 'marriage', 'taiwan_indep', 'gender',\n",
       "       'religion', 'month_income', 'pre_ele_101', 'year', 'political_party',\n",
       "       'edu'],\n",
       "      dtype='object')"
      ]
     },
     "execution_count": 381,
     "metadata": {},
     "output_type": "execute_result"
    }
   ],
   "source": [
    "data_merge = data_merge.drop(columns = ['zip', 'stratum2', 'year_m', 'wave', 'psu', 'wsel', 'id', 'qtype', 'ssu'])\n",
    "data_merge.columns"
   ]
  },
  {
   "cell_type": "markdown",
   "metadata": {},
   "source": [
    "### Normalizing of variables in each column for easier navigation."
   ]
  },
  {
   "cell_type": "markdown",
   "metadata": {},
   "source": [
    "We now need to see which values columns have and normalize those values into simpler categories. For example: The political_party columns has the following values which, for this analysis, are too many."
   ]
  },
  {
   "cell_type": "code",
   "execution_count": 336,
   "metadata": {},
   "outputs": [
    {
     "data": {
      "text/plain": [
       "political_party\n",
       "都沒有___都支持      1165\n",
       "都差不多           1115\n",
       "都沒有/都支持         838\n",
       "跳答              749\n",
       "國民黨             605\n",
       "民進黨             406\n",
       "國民黨(跳答h7)       249\n",
       "民進黨(跳答h7)       203\n",
       "泛藍              131\n",
       "泛綠              114\n",
       "不知道              95\n",
       "拒答               86\n",
       "無黨籍(跳答h7)        41\n",
       "有偏向政黨,不願意回答      21\n",
       "親民黨              13\n",
       "有支持政黨,但不回答       12\n",
       "親民黨(跳答h7)        12\n",
       "綠黨               12\n",
       "台聯黨               9\n",
       "其他政黨,請說明          8\n",
       "新黨                7\n",
       "新黨(跳答h7)          3\n",
       "台聯(跳答h7)          2\n",
       "建國黨               1\n",
       "台聯                1\n",
       "其他                1\n",
       "Name: count, dtype: int64"
      ]
     },
     "execution_count": 336,
     "metadata": {},
     "output_type": "execute_result"
    }
   ],
   "source": [
    "data_merge['political_party'].value_counts()"
   ]
  },
  {
   "cell_type": "markdown",
   "metadata": {},
   "source": [
    "Or the birth_year column has non-numeric values"
   ]
  },
  {
   "cell_type": "code",
   "execution_count": 348,
   "metadata": {},
   "outputs": [
    {
     "data": {
      "text/plain": [
       "psu\n",
       "1     898\n",
       "2     868\n",
       "3     849\n",
       "4     568\n",
       "6     416\n",
       "5     393\n",
       "9     241\n",
       "11    232\n",
       "7     231\n",
       "12    227\n",
       "10    227\n",
       "8     210\n",
       "13    207\n",
       "14    203\n",
       "Name: count, dtype: int64"
      ]
     },
     "execution_count": 348,
     "metadata": {},
     "output_type": "execute_result"
    }
   ],
   "source": [
    "data_merge['psu'].value_counts()"
   ]
  },
  {
   "cell_type": "code",
   "execution_count": 337,
   "metadata": {},
   "outputs": [
    {
     "data": {
      "text/plain": [
       "zip                      object\n",
       "stratum2                 object\n",
       "year_m                    int64\n",
       "wave                      int64\n",
       "pre_ele_97               object\n",
       "psu                       int64\n",
       "mothe_house_income       object\n",
       "birth_year               object\n",
       "taiwanese_or_chinese     object\n",
       "marriage                 object\n",
       "taiwan_indep             object\n",
       "gender                   object\n",
       "religion                 object\n",
       "month_income             object\n",
       "pre_ele_101              object\n",
       "id                        int64\n",
       "qtype                    object\n",
       "wsel                    float64\n",
       "ssu                     float64\n",
       "year                      int64\n",
       "political_party          object\n",
       "edu                      object\n",
       "dtype: object"
      ]
     },
     "execution_count": 337,
     "metadata": {},
     "output_type": "execute_result"
    }
   ],
   "source": [
    "data_merge.dtypes\n",
    "#Int and floats are numeric while object are usually a combination of strings, ints, etc..."
   ]
  },
  {
   "cell_type": "code",
   "execution_count": 338,
   "metadata": {},
   "outputs": [],
   "source": [
    "#Let's extract columns where birth_year is only numbers...\n",
    "#Run to_numeric to try and convert to number, if not possible then return NA, then use notnull to return non-NA values\n",
    "# i.e. Return only numbers\n",
    "data_merge = data_merge[pd.to_numeric(data_merge['birth_year'], errors = 'coerce').notnull()]\n",
    "data_merge['birth_year'] = data_merge['birth_year'].astype('int')"
   ]
  },
  {
   "cell_type": "markdown",
   "metadata": {},
   "source": [
    "We start by cleaning the political_party target column."
   ]
  },
  {
   "cell_type": "code",
   "execution_count": 339,
   "metadata": {},
   "outputs": [
    {
     "data": {
      "text/plain": [
       "array(['其他', '民進黨', '國民黨'], dtype=object)"
      ]
     },
     "execution_count": 339,
     "metadata": {},
     "output_type": "execute_result"
    }
   ],
   "source": [
    "# Define the values to be replaced and the replacement string\n",
    "data_merge.loc[data_merge['political_party'].isin([\"民進黨(跳答h7)\", \"泛綠\"]), 'political_party'] = '民進黨'\n",
    "data_merge.loc[data_merge['political_party'].isin([\"國民黨(跳答h7)\", \"泛藍\"]), 'political_party'] = '國民黨'\n",
    "\n",
    "#Change all other values to 'other'\n",
    "data_merge.loc[~data_merge['political_party'].isin(['民進黨', '國民黨']), 'political_party'] = '其他'\n",
    "data_merge['political_party'].unique()\n"
   ]
  },
  {
   "cell_type": "markdown",
   "metadata": {},
   "source": [
    "Do a similar process for our ethnic identification column. From this:..."
   ]
  },
  {
   "cell_type": "code",
   "execution_count": 340,
   "metadata": {},
   "outputs": [
    {
     "data": {
      "text/plain": [
       "array(['台灣人', '都是', '都不是', '中國人', '拒答', '不知道', '其他', '兩者都是', '兩者都不是,請說明',\n",
       "       '無法決定', '兩者都是:是台灣人也是中國人', '兩者都是:是中國人也是台灣人', '都不是,請說明', '無法選擇',\n",
       "       '不瞭解題意'], dtype=object)"
      ]
     },
     "execution_count": 340,
     "metadata": {},
     "output_type": "execute_result"
    }
   ],
   "source": [
    "#Output all values of the ethnic identification category\n",
    "data_merge['taiwanese_or_chinese'].unique()"
   ]
  },
  {
   "cell_type": "markdown",
   "metadata": {},
   "source": [
    "To this:"
   ]
  },
  {
   "cell_type": "code",
   "execution_count": 341,
   "metadata": {},
   "outputs": [
    {
     "data": {
      "text/plain": [
       "taiwanese_or_chinese\n",
       "台灣人    3985\n",
       "兩者     1641\n",
       "中國人     144\n",
       "Name: count, dtype: int64"
      ]
     },
     "execution_count": 341,
     "metadata": {},
     "output_type": "execute_result"
    }
   ],
   "source": [
    "non_other = [\"台灣人\", \"都是\", \"兩者都是\", \"中國人\", \"兩者都是:是中國人也是台灣人\", \"兩者都是:是台灣人也是中國人\", '兩者']\n",
    "\n",
    "data_merge = data_merge[data_merge['taiwanese_or_chinese'].isin(non_other)] #Select only rows with the above values\n",
    "data_merge.loc[~data_merge['taiwanese_or_chinese'].isin([\"台灣人\", \"中國人\"]), 'taiwanese_or_chinese'] = '兩者'\n",
    "\n",
    "data_merge[\"taiwanese_or_chinese\"].value_counts()\n"
   ]
  },
  {
   "cell_type": "markdown",
   "metadata": {},
   "source": [
    "For the other columns the process looks quite similar"
   ]
  },
  {
   "cell_type": "code",
   "execution_count": 342,
   "metadata": {},
   "outputs": [
    {
     "data": {
      "text/plain": [
       "pre_ele_101\n",
       "馬英九      2216\n",
       "Other    1993\n",
       "蔡英文      1561\n",
       "Name: count, dtype: int64"
      ]
     },
     "execution_count": 342,
     "metadata": {},
     "output_type": "execute_result"
    }
   ],
   "source": [
    "data_merge['pre_ele_101'].value_counts()\n",
    "\n",
    "data_merge.loc[data_merge['pre_ele_101'].str.contains('蔡英文') ,'pre_ele_101'] = '蔡英文'\n",
    "data_merge.loc[data_merge['pre_ele_101'].str.contains('馬英九') ,'pre_ele_101'] = '馬英九'\n",
    "data_merge.loc[~data_merge['pre_ele_101'].isin(['馬英九', '蔡英文']) ,'pre_ele_101'] = 'Other'\n",
    "data_merge['pre_ele_101'].value_counts()"
   ]
  },
  {
   "cell_type": "code",
   "execution_count": 344,
   "metadata": {},
   "outputs": [
    {
     "data": {
      "text/plain": [
       "pre_ele_97\n",
       "Other    3345\n",
       "馬英九      1646\n",
       "謝長廷       779\n",
       "Name: count, dtype: int64"
      ]
     },
     "execution_count": 344,
     "metadata": {},
     "output_type": "execute_result"
    }
   ],
   "source": [
    "data_merge.loc[data_merge['pre_ele_97'].str.contains('謝長廷') ,'pre_ele_97'] = '謝長廷'\n",
    "data_merge.loc[data_merge['pre_ele_97'].str.contains('馬英九') ,'pre_ele_97'] = '馬英九'\n",
    "data_merge.loc[~data_merge['pre_ele_97'].isin(['馬英九', '謝長廷']) ,'pre_ele_97'] = 'Other'\n",
    "data_merge['pre_ele_97'].value_counts()"
   ]
  },
  {
   "cell_type": "markdown",
   "metadata": {},
   "source": [
    "#### A quick visualization:"
   ]
  },
  {
   "cell_type": "code",
   "execution_count": 216,
   "metadata": {},
   "outputs": [],
   "source": [
    "#Import our visualization tool Plotnine\n",
    "from plotnine import *"
   ]
  },
  {
   "cell_type": "code",
   "execution_count": 217,
   "metadata": {},
   "outputs": [
    {
     "data": {
      "image/png": "[encoded data removed]"
     },
     "metadata": {
      "image/png": {
       "height": 480,
       "width": 640
      }
     },
     "output_type": "display_data"
    }
   ],
   "source": [
    "(\n",
    "    ggplot()+\n",
    "        geom_histogram(aes(x = data_merge['birth_year']), binwidth = 1)\n",
    ")"
   ]
  },
  {
   "cell_type": "markdown",
   "metadata": {},
   "source": [
    "## Section 2: Visualization"
   ]
  }
 ],
 "metadata": {
  "kernelspec": {
   "display_name": ".venv",
   "language": "python",
   "name": "python3"
  },
  "language_info": {
   "codemirror_mode": {
    "name": "ipython",
    "version": 3
   },
   "file_extension": ".py",
   "mimetype": "text/x-python",
   "name": "python",
   "nbconvert_exporter": "python",
   "pygments_lexer": "ipython3",
   "version": "3.11.3"
  }
 },
 "nbformat": 4,
 "nbformat_minor": 2
}
